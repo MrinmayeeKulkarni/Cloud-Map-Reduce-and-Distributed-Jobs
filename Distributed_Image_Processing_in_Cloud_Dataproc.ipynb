{
  "nbformat": 4,
  "nbformat_minor": 0,
  "metadata": {
    "colab": {
      "name": "Distributed Image Processing in Cloud Dataproc.ipynb",
      "provenance": [],
      "authorship_tag": "ABX9TyPAWxrKTUZM2qTFsjAi4GnW",
      "include_colab_link": true
    },
    "kernelspec": {
      "name": "python3",
      "display_name": "Python 3"
    }
  },
  "cells": [
    {
      "cell_type": "markdown",
      "metadata": {
        "id": "view-in-github",
        "colab_type": "text"
      },
      "source": [
        "<a href=\"https://colab.research.google.com/github/MrinmayeeKulkarni/Cloud-Map-Reduce-and-Distributed-Jobs/blob/master/Distributed_Image_Processing_in_Cloud_Dataproc.ipynb\" target=\"_parent\"><img src=\"https://colab.research.google.com/assets/colab-badge.svg\" alt=\"Open In Colab\"/></a>"
      ]
    },
    {
      "cell_type": "markdown",
      "metadata": {
        "id": "KETL5CvM45aA",
        "colab_type": "text"
      },
      "source": [
        "###  Using Apache Spark on Cloud Dataproc to distribute a computationally intensive image processing task onto a cluster of machines\n",
        "\n",
        "  * Creating a development machine in Compute Engine\n",
        "\n",
        "  * Launch Build\n",
        "\n",
        "  * Creating a Cloud Storage (GCS) Bucket and add sample images\n",
        "\n",
        "  * Creating a Cloud Dataproc Cluster\n",
        "\n",
        "  * Submitting job to Cloud Dataproc: \n",
        "    * haar classifier must describe face for the face detector\n",
        "    * haar classifier is an XML file\n",
        "    \n",
        "  * Testing images downloaded on Vision API to see the results of image detection\n",
        "    "
      ]
    }
  ]
}